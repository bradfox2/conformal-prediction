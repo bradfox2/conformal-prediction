{
 "cells": [
  {
   "cell_type": "markdown",
   "metadata": {},
   "source": [
    "[![Open In Colab](https://colab.research.google.com/assets/colab-badge.svg)](https://colab.research.google.com/github/aangelopoulos/conformal-prediction/blob/main/notebooks/toxic-text-outlier-detection.ipynb)"
   ]
  },
  {
   "cell_type": "code",
   "execution_count": 1,
   "metadata": {},
   "outputs": [],
   "source": [
    "import numpy as np\n",
    "import matplotlib.pyplot as plt\n",
    "import seaborn as sns\n",
    "import pandas as pd\n",
    "import os"
   ]
  },
  {
   "cell_type": "code",
   "execution_count": 2,
   "metadata": {},
   "outputs": [],
   "source": [
    "# Load cached data from Detoxify model on Jigsaw dataset. See https://github.com/unitaryai/detoxify for details.\n",
    "# The comments are from Wikipedia talk channels, and we are trying perform outlier detection\n",
    "# We will only use the non-toxic data, and then with type-1 error control identify the toxic outliers.\n",
    "if not os.path.exists('../data'):\n",
    "    os.system('gdown 1h7S6N_Rx7gdfO3ZunzErZy6H7620EbZK -O ../data.tar.gz')\n",
    "    os.system('tar -xf ../data.tar.gz -C ../')\n",
    "    os.system('rm ../data.tar.gz')\n",
    "    \n",
    "data = np.load('../data/toxic-text/toxic-text-detoxify.npz')\n",
    "preds = data['preds'] # Toxicity score in [0,1]\n",
    "toxic = data['labels'] # Toxic (1) or not (0)"
   ]
  },
  {
   "cell_type": "code",
   "execution_count": 3,
   "metadata": {},
   "outputs": [],
   "source": [
    "# Problem setup\n",
    "alpha = 0.1 # 1-alpha is the desired type-1 error\n",
    "n = 10000 # Use 200 calibration points"
   ]
  },
  {
   "cell_type": "code",
   "execution_count": 4,
   "metadata": {},
   "outputs": [],
   "source": [
    "# Look at only the non-toxic data\n",
    "nontoxic = toxic == 0\n",
    "preds_nontoxic = preds[nontoxic]\n",
    "preds_toxic = preds[np.invert(nontoxic)]\n",
    "\n",
    "# Split nontoxic data into calibration and validation sets (save the shuffling)\n",
    "idx = np.array([1] * n + [0] * (preds_nontoxic.shape[0]-n)) > 0\n",
    "np.random.shuffle(idx)\n",
    "cal_scores, val_scores = preds_nontoxic[idx], preds_nontoxic[np.invert(idx)]"
   ]
  },
  {
   "cell_type": "markdown",
   "metadata": {},
   "source": [
    "### Conformal outlier detection happens here"
   ]
  },
  {
   "cell_type": "code",
   "execution_count": 5,
   "metadata": {},
   "outputs": [],
   "source": [
    "# Use the outlier detection method to get a threshold on the toxicities\n",
    "qhat = np.quantile(cal_scores, np.ceil((n+1)*(1-alpha))/n)\n",
    "# Perform outlier detection on the ind and ood data\n",
    "outlier_ind = val_scores > qhat # We want this to be no more than alpha on average\n",
    "outlier_ood = preds_toxic > qhat # We want this to be as large as possible, but it doesn't have a guarantee"
   ]
  },
  {
   "cell_type": "code",
   "execution_count": 6,
   "metadata": {},
   "outputs": [
    {
     "name": "stdout",
     "output_type": "stream",
     "text": [
      "The type-1 error is 0.0983, the type-2 error is 0.3012, and the threshold is 0.4888.\n"
     ]
    }
   ],
   "source": [
    "# Calculate type-1 and type-2 errors\n",
    "type1 = outlier_ind.mean()\n",
    "type2 = 1-outlier_ood.mean()\n",
    "print(f\"The type-1 error is {type1:.4f}, the type-2 error is {type2:.4f}, and the threshold is {qhat:.4f}.\")"
   ]
  },
  {
   "cell_type": "code",
   "execution_count": 7,
   "metadata": {
    "scrolled": true
   },
   "outputs": [
    {
     "name": "stdout",
     "output_type": "stream",
     "text": [
      "Unflagged text examples:\n",
      "['ХОТЕЛОСЬ БЫ УЗНАТЬ ,КАК В ЭТОМ ГОДУ БУДУТ ПРОИЗВОДИТЬ СПУСК ВОДЫ И БУДУТ ЛИ ЗАТОПЛЕНИЯ РЕКОЙ ИШИМ В ГОРОДЕ Г ИШИМ ТАТЬЯНА', 'Certo che Luisa, a suo tempo, non l ha messo in bibliografia ma ci ha scopiazzato abbastanza pesantemente dal Coarelli... le frasi sono uguali all 80%, ho cercato di riformularne un po , ma a volte il confronto è davvero imbarazzante.   SailKo   ', 'el pueblo que no sabe ni leer ni escribir es el pueblo facil de enganyar y mas inculcando el miedo mediante la creacion de un ser imaginario como satàn. Grandes crueldades ha cometido la iglesia i la retencion de grandes procesos cientificos, si no, que se lo digan a galileo galilei.', 'Ceci est ta réponse ??? Tu réponds à mon argumentation choc ci-dessus ? Voilà je crois que tu as tout dit, tu peux t en allez maintenant et supprimer cet article ridicule si tu as un temps soit peu d éthique ! Et pour finir, l auteur devrait lire des livres, pas la presse.', 'Здравствуйте! Спасибо за интерес к Википедии и за создание новой статьи. Однако в Википедии есть определённые правила, согласно которым статьи следует создавать только об энциклопедически значимых объектах. В связи с этим вашу статью, к сожалению, придётся удалить. Для дальнейшей работы, пожалуйста, обратите внимание на правила Википедии о значимости, а также тематические правила о значимости персоналий, веб-сайтов и компьютерных программ.   Реклама коммерческих и общественных организаций, музыкальных групп, интернет-сайтов, а также самореклама будет удаляться из Википедии в любом случае.   Если же у вас есть возможность с помощью авторитетных источников подтвердить значимость предмета статьи Dopomoga group, вы можете вновь её воссоздать, обязательно приведя в тексте все необходимые ссылки. Вам может также помочь    Мастер статей   , предназначенный для помощи начинающим при создании статей. Если желаете подробнее познакомиться с проектом, обратите внимание на страницу приветствия, и смело присоединяйтесь к работе над улучшением Википедии.    Здесь всегда рады новым участникам!    — ']\n",
      "\n",
      "\n",
      "Flagged text examples:\n",
      "['CALLATE BOT DE MIERDA SIN VIDA SOCIAL , seguro que eres rojo , te fusilaba Y mandaba a javi a violar a tu cadaver', 'La Autonomía de Castilla la Vieja y de León tuvo su sede en Burgos, porque históricamente así le correspondía a esta ciudad. Unos pocos años más tarde (1982) los socialistas que presidían la comunidad se marcharon de Burgos y se instalaron en Valladolid, instaurando el acto más insultante a la provincia de Burgos. Se fueron sin avisar como perros con el rabo entre las piernas abochornados de su propia inutilidad que siempre les caracteriza.', 'непонимаю...каким идиотом нужно быть...чтобы верить в библию...этот сборник еврейских сказок...и это энциклопедия...по ней учат наших детей....что ж посмотрим... ', 'esatto, perché lo dice tale Pietro Sottile, OPINIONE di un terzo..... perché non inserire altre opinioni allora???? Bah, sono completamente d accordo con te, e questa dovrebbe essere un enciclopedia libera???? veramente ridicolo! ALvE (msg) ', 'Tu es soit stupide soit de mauvaise foi... j opte perso pour le seconde solution. Je ne nie rien, contrairement à toi, qui n a pas encore compris que la Bretagne, la Normandie ou le Roussillon était français depuis déjà plusieurs siècles... Tant que tu n auras pas admis cette évidence historique, aucun dialogue constructif ne sera possible avec toi. C est couillon, car tu as très certainement des choses intéressantes à dire, mais en prenant les choses comme cela (et les gens pour des cons...), ca ne passe pas. Chaque région, chaque canton et chaque village de France possède des caractéristiques culturelles propres, et pas besoin de mettre en avant des arguments à deux francs pour présenter ces derniers. C est une richesse, et tu l as transforme en boulet... navrant. Je vis en Brie, à l est de Paris, et je peux te dire qu il existe une dizaines de  cultures briardes  différentes... comme il existe plusieurs  cultures bretonnes  ou autres. Clio64 ']\n"
     ]
    }
   ],
   "source": [
    "# Show some examples of unflagged and flagged text\n",
    "content = pd.read_csv('../generation-scripts/toxic_text_utils/test.csv')['content']\n",
    "print(\"Unflagged text examples:\")\n",
    "print(list(np.random.choice(content[preds <= qhat],size=(5,))))\n",
    "print(\"\\n\\nFlagged text examples:\")\n",
    "print(list(np.random.choice(content[preds > qhat],size=(5,))))"
   ]
  }
 ],
 "metadata": {
  "kernelspec": {
   "display_name": "Python 3 (ipykernel)",
   "language": "python",
   "name": "python3"
  },
  "language_info": {
   "codemirror_mode": {
    "name": "ipython",
    "version": 3
   },
   "file_extension": ".py",
   "mimetype": "text/x-python",
   "name": "python",
   "nbconvert_exporter": "python",
   "pygments_lexer": "ipython3",
   "version": "3.7.13"
  }
 },
 "nbformat": 4,
 "nbformat_minor": 4
}
