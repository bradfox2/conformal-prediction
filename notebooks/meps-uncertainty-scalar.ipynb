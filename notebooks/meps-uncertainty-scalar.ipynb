{
 "cells": [
  {
   "cell_type": "markdown",
   "metadata": {},
   "source": [
    "[![Open In Colab](https://colab.research.google.com/assets/colab-badge.svg)](https://colab.research.google.com/github/aangelopoulos/conformal-prediction/blob/main/notebooks/meps-uncertainty-scalar.ipynb)"
   ]
  },
  {
   "cell_type": "code",
   "execution_count": 1,
   "metadata": {},
   "outputs": [],
   "source": [
    "import os\n",
    "import json\n",
    "import numpy as np\n",
    "import matplotlib.pyplot as plt\n",
    "from matplotlib.image import imread\n",
    "import seaborn as sns"
   ]
  },
  {
   "cell_type": "code",
   "execution_count": 2,
   "metadata": {},
   "outputs": [],
   "source": [
    "# Load cached data\n",
    "if not os.path.exists(\"../data\"):\n",
    "    os.system(\"gdown 1h7S6N_Rx7gdfO3ZunzErZy6H7620EbZK -O ../data.tar.gz\")\n",
    "    os.system(\"tar -xf ../data.tar.gz -C ../\")\n",
    "    os.system(\"rm ../data.tar.gz\")\n",
    "\n",
    "data = np.load(\"../data/meps/meps-gbr.npz\")\n",
    "X, labels, upper, lower, pred = (\n",
    "    data[\"X\"],\n",
    "    data[\"y\"],\n",
    "    data[\"upper\"],\n",
    "    data[\"lower\"],\n",
    "    data[\"pred\"],\n",
    ")"
   ]
  },
  {
   "cell_type": "code",
   "execution_count": 3,
   "metadata": {},
   "outputs": [],
   "source": [
    "# Problem setup\n",
    "n = 1000  # number of calibration points\n",
    "alpha = 0.1  # 1-alpha is the desired coverage"
   ]
  },
  {
   "cell_type": "code",
   "execution_count": 4,
   "metadata": {},
   "outputs": [],
   "source": [
    "# Split the softmax scores into calibration and validation sets (save the shuffling)\n",
    "idx = np.array([1] * n + [0] * (labels.shape[0] - n)) > 0\n",
    "np.random.shuffle(idx)\n",
    "cal_labels, val_labels = labels[idx], labels[~idx]\n",
    "cal_upper, val_upper = upper[idx], upper[~idx]\n",
    "cal_lower, val_lower = lower[idx], lower[~idx]\n",
    "cal_pred, val_pred = pred[idx], pred[~idx]\n",
    "val_X = X[~idx]"
   ]
  },
  {
   "cell_type": "code",
   "execution_count": 5,
   "metadata": {},
   "outputs": [],
   "source": [
    "# We'll choose the uncertainty scalar to be the difference between quantiles, for simplicity\n",
    "cal_U = cal_upper - cal_lower\n",
    "val_U = val_upper - val_lower"
   ]
  },
  {
   "cell_type": "markdown",
   "metadata": {},
   "source": [
    "### Conformal prediction happens here"
   ]
  },
  {
   "cell_type": "code",
   "execution_count": 6,
   "metadata": {},
   "outputs": [],
   "source": [
    "# Get scores\n",
    "cal_scores = np.abs(cal_pred - cal_labels) / cal_U\n",
    "# Get the score quantile\n",
    "qhat = np.quantile(\n",
    "    cal_scores, np.ceil((n + 1) * (1 - alpha)) / n, interpolation=\"higher\"\n",
    ")\n",
    "# Deploy (output=lower and upper adjusted quantiles)\n",
    "prediction_sets = [val_pred - val_U * qhat, val_pred + val_U * qhat]"
   ]
  },
  {
   "cell_type": "code",
   "execution_count": 7,
   "metadata": {},
   "outputs": [
    {
     "name": "stdout",
     "output_type": "stream",
     "text": [
      "The empirical coverage before calibration is: 0.739735964021471\n",
      "The empirical coverage after calibration is: 0.8951109821558102\n"
     ]
    }
   ],
   "source": [
    "# Calculate empirical coverage (before and after calibration)\n",
    "prediction_sets_uncalibrated = [val_lower, val_upper]\n",
    "empirical_coverage_uncalibrated = (\n",
    "    (val_labels >= prediction_sets_uncalibrated[0])\n",
    "    & (val_labels <= prediction_sets_uncalibrated[1])\n",
    ").mean()\n",
    "print(\n",
    "    f\"The empirical coverage before calibration is: {empirical_coverage_uncalibrated}\"\n",
    ")\n",
    "empirical_coverage = (\n",
    "    (val_labels >= prediction_sets[0]) & (val_labels <= prediction_sets[1])\n",
    ").mean()\n",
    "print(f\"The empirical coverage after calibration is: {empirical_coverage}\")"
   ]
  },
  {
   "cell_type": "code",
   "execution_count": 8,
   "metadata": {
    "scrolled": true
   },
   "outputs": [
    {
     "data": {
      "image/png": "[encoded data removed]",
      "text/plain": [
       "<Figure size 432x288 with 1 Axes>"
      ]
     },
     "metadata": {},
     "output_type": "display_data"
    }
   ],
   "source": [
    "# Plot results stratifying across cancer severity (one of many covariates)\n",
    "cancer_vecs = val_X[:, 40:45]\n",
    "for col in range(cancer_vecs.shape[1]):\n",
    "    one_val = cancer_vecs[:, col].max()\n",
    "    cancer_vecs[:, col] = (cancer_vecs[:, col] == one_val).astype(int)\n",
    "cancer_dx = cancer_vecs.dot(np.arange(5) + 1).astype(int)\n",
    "\n",
    "# Trim missing labels\n",
    "val_labels_trimmed = val_labels[cancer_dx > 0]\n",
    "val_lower_trimmed = val_lower[cancer_dx > 0]\n",
    "val_upper_trimmed = val_upper[cancer_dx > 0]\n",
    "cancer_dx_trimmed = cancer_dx[cancer_dx > 0]\n",
    "valid_cancer_dx = np.arange(5) + 1\n",
    "\n",
    "lower_uncal = [\n",
    "    (np.e ** (val_lower_trimmed[cancer_dx_trimmed == dx]) - 1).mean()\n",
    "    for dx in valid_cancer_dx\n",
    "]\n",
    "lower_cal = [\n",
    "    (np.e ** (val_lower_trimmed[cancer_dx_trimmed == dx] - qhat) - 1).mean()\n",
    "    for dx in valid_cancer_dx\n",
    "]\n",
    "upper_uncal = [\n",
    "    (np.e ** (val_upper_trimmed[cancer_dx_trimmed == dx]) - 1).mean()\n",
    "    for dx in valid_cancer_dx\n",
    "]\n",
    "upper_cal = [\n",
    "    (np.e ** (val_upper_trimmed[cancer_dx_trimmed == dx] + qhat) - 1).mean()\n",
    "    for dx in valid_cancer_dx\n",
    "]\n",
    "\n",
    "sns.set(style=\"white\")\n",
    "sns.set_palette(\"pastel\")\n",
    "plt.figure()\n",
    "plt_idx = np.random.choice(\n",
    "    np.arange(val_labels_trimmed.shape[0]),\n",
    "    size=(val_labels_trimmed.shape[0],),\n",
    "    replace=False,\n",
    ")\n",
    "sns.violinplot(\n",
    "    x=cancer_dx_trimmed[plt_idx],\n",
    "    y=np.e ** val_labels_trimmed[plt_idx] - 1,\n",
    "    color=\"#BBD9FA\",\n",
    ")\n",
    "plt.plot(\n",
    "    valid_cancer_dx - 1,\n",
    "    lower_uncal,\n",
    "    marker=\"_\",\n",
    "    markersize=\"25\",\n",
    "    linewidth=0,\n",
    "    color=\"orange\",\n",
    "    label=\"uncalibrated\",\n",
    ")\n",
    "plt.plot(\n",
    "    valid_cancer_dx - 1,\n",
    "    upper_uncal,\n",
    "    marker=\"_\",\n",
    "    markersize=\"25\",\n",
    "    linewidth=0,\n",
    "    color=\"orange\",\n",
    ")\n",
    "plt.plot(\n",
    "    valid_cancer_dx - 1,\n",
    "    lower_cal,\n",
    "    marker=\"_\",\n",
    "    markersize=\"25\",\n",
    "    linewidth=0,\n",
    "    color=\"green\",\n",
    "    label=\"calibrated\",\n",
    ")\n",
    "plt.plot(\n",
    "    valid_cancer_dx - 1,\n",
    "    upper_cal,\n",
    "    marker=\"_\",\n",
    "    markersize=\"25\",\n",
    "    linewidth=0,\n",
    "    color=\"green\",\n",
    ")\n",
    "plt.legend(loc=\"upper left\")\n",
    "plt.ylim(0, 120)\n",
    "plt.xlabel(\"Cancer severity (higher is more severe)\")\n",
    "plt.ylabel(\"Medical expenses ($)\")\n",
    "sns.despine(top=True, right=True)\n",
    "plt.show()"
   ]
  }
 ],
 "metadata": {
  "kernelspec": {
   "display_name": "Python 3 (ipykernel)",
   "language": "python",
   "name": "python3"
  },
  "language_info": {
   "codemirror_mode": {
    "name": "ipython",
    "version": 3
   },
   "file_extension": ".py",
   "mimetype": "text/x-python",
   "name": "python",
   "nbconvert_exporter": "python",
   "pygments_lexer": "ipython3",
   "version": "3.7.13"
  }
 },
 "nbformat": 4,
 "nbformat_minor": 4
}
